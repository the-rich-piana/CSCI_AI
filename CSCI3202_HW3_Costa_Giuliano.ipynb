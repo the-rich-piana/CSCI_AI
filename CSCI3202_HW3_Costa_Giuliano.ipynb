{
 "cells": [
  {
   "cell_type": "markdown",
   "metadata": {},
   "source": [
    "---\n",
    "\n",
    "# CSCI 3202, Fall 2022\n",
    "# Homework 3\n",
    "# Due: Friday September 16, 2022 at 6:00 PM\n",
    "\n",
    "### Note: There will be an extra-credit portion to this assigment posted on Tuesday that will cover Q-Learning. \n",
    "<br> \n",
    "\n",
    "### Your name: Giuliano Costa\n",
    "\n",
    "<br> "
   ]
  },
  {
   "cell_type": "markdown",
   "metadata": {},
   "source": [
    "---\n",
    "\n",
    "There is no coding in this assignment. Type your answers in a Markdown cell using Latex formatting commands. If you're unfamiliar with Latex, it's used for formatting equations and other mathematical content. Here are a few examples that you might find useful.\n",
    "### Displaying an equation:\n",
    "$$P(a | b ) = 0.5$$\n",
    "### Displaying a fraction:\n",
    "$$ \\frac{a}{b}$$\n",
    "### Nested fractions:\n",
    "$$ \\frac{a}{\\frac{c}{b}}$$\n",
    "### Adding fractions:\n",
    "$$ \\frac{a}{b} + \\frac{d}{c}$$\n",
    "\n",
    "When you type your answers for each of the questions in this assignment, we need to see that you know how to set up the problem, including values assigned to individual components of the problem. We don't need to see every step of your calculations, just your final computed answer.\n",
    "\n",
    "For more information about how to use Latex, here is a great reference: https://ashki23.github.io/markdown-latex.html"
   ]
  },
  {
   "cell_type": "markdown",
   "metadata": {},
   "source": [
    "### 1. Playing Card Probabilities\n",
    "\n",
    "Consider a standard deck of playing cards and answer the following questions:"
   ]
  },
  {
   "cell_type": "markdown",
   "metadata": {},
   "source": [
    "### a. What is the probability of drawing a Jack of any suit?"
   ]
  },
  {
   "cell_type": "markdown",
   "metadata": {},
   "source": [
    "$$ P(J) = \\frac{1}{13} $$"
   ]
  },
  {
   "cell_type": "markdown",
   "metadata": {},
   "source": [
    "### b. What is the probability of drawing a card that is of a black suit?"
   ]
  },
  {
   "cell_type": "markdown",
   "metadata": {},
   "source": [
    "$$P(B) = \\frac{1}{4}$$"
   ]
  },
  {
   "cell_type": "markdown",
   "metadata": {},
   "source": [
    "### c. What is the probability of drawing a Jack OR a card of a black suit?"
   ]
  },
  {
   "cell_type": "markdown",
   "metadata": {},
   "source": [
    "$$P(A or inclusive B) = P(A) + P(B)$$\n",
    "$$P(J or B) = P(J) + P(B)  $$\n",
    "$$P(J or B) = \\frac{2}{52} + \\frac{1}{2}   = \\frac{28}{52} $$"
   ]
  },
  {
   "cell_type": "markdown",
   "metadata": {},
   "source": [
    "### d. Describe in your own words what a joint probability is."
   ]
  },
  {
   "cell_type": "markdown",
   "metadata": {},
   "source": [
    "A joint probability can be thought of the logical 'and' of two probabilities. It is the intersection of two or more events.   "
   ]
  },
  {
   "cell_type": "markdown",
   "metadata": {},
   "source": [
    "### 2. Rolling Dice\n",
    "\n",
    "Consider two die with 6 equally weighted sides."
   ]
  },
  {
   "cell_type": "markdown",
   "metadata": {},
   "source": [
    "### a. What is the probability of a dice roll summing to 7?"
   ]
  },
  {
   "cell_type": "markdown",
   "metadata": {},
   "source": [
    "Both die have a max and min of 1 and 6. \n",
    "\n",
    "$$ \\sum{ P(A and B)} = 7$$\n",
    "\n",
    "$$ \\frac{1}{12} * \\frac{1}{6} * \\frac{1}{6} = \\frac{1}{6} $$"
   ]
  },
  {
   "cell_type": "markdown",
   "metadata": {},
   "source": [
    "### b. What is the probability of a dice roll summing to an even number 10 times in a row?"
   ]
  },
  {
   "cell_type": "markdown",
   "metadata": {},
   "source": [
    "$$P(even) = \\frac{6}{12}$$\n",
    "$$P(even_10) = (\\frac{1}{2})^{10} = 0.0009765625$$"
   ]
  },
  {
   "cell_type": "markdown",
   "metadata": {},
   "source": [
    "### c. Let's say that you roll one dice at a time. Your first die comes up as an even number. What is the probability that your dice will sum to 7 after you roll the second die?"
   ]
  },
  {
   "cell_type": "markdown",
   "metadata": {},
   "source": [
    "$$\\\\ P = \\frac{1}{3}*\\frac{1}{2} = \\frac{1}{6}$$"
   ]
  },
  {
   "cell_type": "markdown",
   "metadata": {},
   "source": [
    "### 3. Conditional Probability\n",
    "\n",
    "A team of data scientists have been working on the very important task of training a classification model to predict whether an item of clothing is fashionable. They are collaborating with a team of fashion experts who provide the ground truth label for the training data set: they tell the scientists which clothing is fashionable. There are a total of 1822 photos of clothing in the data set, of which 309 are fashionable. The machine learning system correctly predicted 197 items of clothing as fashionable and 1491 items of clothing as unfashionable. Unfortunately, the system was imperfect, and incorrectly classified 22 items of unfashionable clothing as fashionable, and 112 items fashionable items as unfashionable. \n",
    "\n",
    "\n",
    "|                       | True_Fashion | True_Unfashion |\n",
    "| -----------           | -----------  | -----------    |\n",
    "| <b>Pred_Fashion</b>   | 197          | 22             |\n",
    "| <b>Pred_Unfashion</b> | 112          | 1491           |\n",
    "| <b>Total</b>          | 309          | 1513           |"
   ]
  },
  {
   "cell_type": "markdown",
   "metadata": {
    "tags": []
   },
   "source": [
    "#### (a)\n",
    "If a photo is actually fashionable, what is the chance the ML classifier correctly identified the photo as being fashionable?"
   ]
  },
  {
   "cell_type": "markdown",
   "metadata": {},
   "source": [
    "$$ P(predfashionable | truefashion) = \\frac{P(PF \\text{ and } TF) - P(TU)}{P(TF)} $$\n",
    "$$ P = \\frac{196 - 22}{309} $$\n",
    "$$ P = 56.3\\% $$"
   ]
  },
  {
   "cell_type": "markdown",
   "metadata": {},
   "source": [
    "#### (b)\n",
    "We sample a photo from the data set and learn the ML algorithm predicted this photo was not fashionable. What is the probability that it was incorrect and the photo is actually fashionable?"
   ]
  },
  {
   "cell_type": "markdown",
   "metadata": {},
   "source": [
    "$$\\frac{112}{112+1491} = \\frac{112}{1609}$$\n",
    "$$ = 6.96\\%$$"
   ]
  },
  {
   "cell_type": "markdown",
   "metadata": {},
   "source": [
    "#### (c)\n",
    "What is the difference between a <i>joint probability</i> and a <i>marginal probability</i>?"
   ]
  },
  {
   "cell_type": "markdown",
   "metadata": {},
   "source": [
    "Joint probabitility is the intersection of two events. Whereas marginal probability are probabilities that occur in the \"margins\" of a table of probabilities. Marginal probabilities are the sum of  probabilities, without considering other variables. "
   ]
  },
  {
   "cell_type": "markdown",
   "metadata": {},
   "source": [
    "#### (d)\n",
    "What is the probability that the machine learning system predicted that an item of clothing was fashionable? Is this a joint or a marginal probability?"
   ]
  },
  {
   "cell_type": "markdown",
   "metadata": {},
   "source": [
    "The probability is marginal in this case. \n",
    "$$ \\frac{197 + 22}{309 + 1491} = \\frac{219}{1800} $$"
   ]
  },
  {
   "cell_type": "markdown",
   "metadata": {},
   "source": [
    "### 4. Bayes' Rule"
   ]
  },
  {
   "cell_type": "markdown",
   "metadata": {},
   "source": [
    "### (a). \n",
    "There are two boxes. Box 1 contains three red and five white balls. Box 2 contains two red and five white balls. A box is chosen at random: P(box=1) = P(box=2) = 0.5 and a ball chosen from this box turns out to be red. What is the probability that the red ball came from box 1? (i.e., P(box=1 | ball=red)=???)"
   ]
  },
  {
   "cell_type": "markdown",
   "metadata": {},
   "source": [
    "Box1 = { 3R, 5W} = 0.5\n",
    "Box2 = { 2R, 5W} = 0.5\n",
    "\n",
    "$$ P(box1 | red ) = \\frac{P(red | box1)P(box1)}{P(red)} $$ \n",
    "$$ = \\frac{\\frac{3}{8}*\\frac{1}{2}}{\\frac{5}{15}} $$ \n",
    "$$ = \\frac{\\frac{3}{16}}{\\frac{1}{3}} $$ \n",
    "$$ = 9/16$$"
   ]
  },
  {
   "cell_type": "markdown",
   "metadata": {},
   "source": [
    "### (b).\n",
    "\n",
    "Two balls are placed in a box as follows: A fair coin is tossed and a white ball is placed in the box if a heads occurs, otherwise a red ball is placed in the box. The coin is tossed again and a red ball is placed in the box if a tails occurs, otherwise a white ball is placed in the box. Balls are drawn from the box three times in succession (always replacing the drawn ball back in the box). It is found that on all three occasions a red ball is drawn. What is the probability that both balls in the box are red?"
   ]
  },
  {
   "cell_type": "markdown",
   "metadata": {},
   "source": [
    "\n",
    "P(Both balls are red | three red balls drawn) = P(2 | 3) = \n",
    "\n",
    "$$ \\frac{P(3R|2R)P(2R)}{P(3R)} $$\n",
    "\n",
    "$$ \\frac{P(3R|2R)P(2R)}{ P(3R | 2R)P(2R) + P(2R | 1R)P(1R) + P(1R | 2W)P(2W)} $$ \n",
    "\n",
    "$$ \\frac{\\frac{1}{2}\\frac{1}{2}}{ 1* \\frac{1}{2}^{2} + \\frac{1}{2}^{3}\\frac{1}{2}^{2} + \\frac{1}{2}^{2}*0} $$ \n",
    "\n",
    "$$ = 0.8889 $$\n",
    "\n"
   ]
  },
  {
   "cell_type": "markdown",
   "metadata": {},
   "source": [
    "### (c).\n",
    "A secret government agency has developed a scanner that determines whether a person is an alien imposter. The scanner detects alien imposters with 95% reliability. However, 1% of the time the test returns a false positive for an upstanding citizen. The alien imposters are very dangerous, but also quite rare, with a prevalence in the population of only 0.1%. Upon a tip from an informant, the agency has administered the scanner to a suspicious person. \n",
    "\n"
   ]
  },
  {
   "cell_type": "markdown",
   "metadata": {},
   "source": [
    "#### i. \n",
    "Use the *Law of Total Probability* to calculate the probability that the suspicious person will test positive.\n",
    "Negative = .95\n",
    "Pos = 0.05\n",
    "\n",
    "Human and Positive = 0.01\n",
    "True Alien  = 0.001\n",
    "\n",
    "Scanner Positive \n",
    "\n",
    "Prob Alien and Negative = .05\n",
    "Prob Alien and Positive = .95\n",
    "\n",
    "\n",
    "$$ Prob(Testing Pos) = P(H)P(Pos | H) + P(A)P(Pos | A ) $$\n",
    "$$ = (0.999)(0.001) + (0.01)(0.95)$$\n",
    "$$ = 0.010499 $$\n",
    "\n",
    "#### ii.\n",
    "What is the probability that the person is actually an alien imposter given that they do test positive?\n",
    "\n"
   ]
  },
  {
   "cell_type": "markdown",
   "metadata": {},
   "source": [
    "True Alien = 0.1% of Pop\n",
    "\n",
    "\n",
    "$$ P(H | A) = 0.95 $$\n",
    "$$ P(Pos | A) =0.01 $$\n",
    "$$ P(Pos | H) = 0.001 $$ \n",
    "$$ = (0.999*0.01) + (0.001*0.95) = 0.0109 $$\n",
    "$$P(A | Pos) = \\frac{0.95*0.001}{0.0109}$$\n",
    "$$P(A | Pos) = 0.08715$$\n"
   ]
  }
 ],
 "metadata": {
  "kernelspec": {
   "display_name": "Python 3.8.10 64-bit",
   "language": "python",
   "name": "python3"
  },
  "language_info": {
   "codemirror_mode": {
    "name": "ipython",
    "version": 3
   },
   "file_extension": ".py",
   "mimetype": "text/x-python",
   "name": "python",
   "nbconvert_exporter": "python",
   "pygments_lexer": "ipython3",
   "version": "3.8.10"
  },
  "vscode": {
   "interpreter": {
    "hash": "916dbcbb3f70747c44a77c7bcd40155683ae19c65e1c03b4aa3499c5328201f1"
   }
  }
 },
 "nbformat": 4,
 "nbformat_minor": 4
}
