{
 "cells": [
  {
   "cell_type": "markdown",
   "metadata": {},
   "source": [
    "# CSCI 3202, Fall 2022\n",
    "\n",
    "\n",
    "# Hill climbing Notebook Solutions"
   ]
  },
  {
   "cell_type": "markdown",
   "metadata": {},
   "source": [
    "Before we begin, let's load a few packages that we might find useful."
   ]
  },
  {
   "cell_type": "code",
   "execution_count": 3,
   "metadata": {},
   "outputs": [],
   "source": [
    "import numpy as np\n",
    "import matplotlib.pyplot as plt\n",
    "import scipy.stats as stats"
   ]
  },
  {
   "cell_type": "markdown",
   "metadata": {},
   "source": [
    "<br>\n",
    "\n",
    "<img src=\"http://1.bp.blogspot.com/-mWUxSF7q_JY/Vbd84OcwaSI/AAAAAAAA7No/5iT8gMZBHw8/s1600/seilschaft2---helliventures-joachimhellinger.jpg=\" width=\"300\"/>\n",
    "\n",
    "\n",
    "\n",
    "## Problem 1: Hill-climbing\n",
    "\n",
    "The over-arching goal here is to maximize some objective function.  You can also look at this as minimizing some kind of a loss... and you will!\n",
    "\n",
    "In many applications, the objective function might turn out to be a Gaussian function, such as this one:"
   ]
  },
  {
   "cell_type": "code",
   "execution_count": 4,
   "metadata": {},
   "outputs": [],
   "source": [
    "def gaussian_objective(state):\n",
    "    return stats.norm.pdf(x=state, loc=5, scale=2)"
   ]
  },
  {
   "cell_type": "markdown",
   "metadata": {},
   "source": [
    "Note the this objective function is just taking in some value $\\texttt{state}$ and returning the value of the normal probability density function, centered at $\\texttt{loc} = \\mu = 5$ and with standard deviation $\\texttt{scale} = \\sigma = 2$:\n",
    "$$f(\\texttt{state}) = \\dfrac{1}{\\sqrt{2\\pi}\\sigma} e^{-\\dfrac{(\\texttt{state}-\\mu)^2}{2\\sigma^2}}$$"
   ]
  },
  {
   "cell_type": "markdown",
   "metadata": {},
   "source": [
    "For good measure, let's plot this thing up and see what it looks like."
   ]
  },
  {
   "cell_type": "code",
   "execution_count": 5,
   "metadata": {},
   "outputs": [
    {
     "data": {
      "image/png": "[encoded data removed]",
      "text/plain": [
       "<Figure size 432x288 with 1 Axes>"
      ]
     },
     "metadata": {
      "needs_background": "light"
     },
     "output_type": "display_data"
    }
   ],
   "source": [
    "x = np.arange(-5,15,0.1)\n",
    "f = [gaussian_objective(state) for state in x]\n",
    "\n",
    "plt.plot(x,f)\n",
    "plt.xlabel('State')\n",
    "plt.ylabel('Objective function')\n",
    "plt.show()"
   ]
  },
  {
   "cell_type": "markdown",
   "metadata": {},
   "source": [
    "Neat.\n",
    "\n",
    "<br>\n",
    "\n",
    "The first order of business if we want to maximize some objective function using the **local search** techniques we just learned will be to set up a class structure to make this easier.\n",
    "\n",
    "If we do this in a general enough way for **hill-climbing** (this first part), we will only need to modify a few things to tackle a trickier problem using **simulated annealing**."
   ]
  },
  {
   "cell_type": "markdown",
   "metadata": {
    "tags": []
   },
   "source": [
    "\n",
    "\n",
    "### (1a)  A class structure to solve problems\n",
    "\n",
    "So first, let's define a class to keep track of the `state`.  This is the quantity we want to adjust in order to optimize the objective function.  That sentence indicates the two values we really need to keep track of for a `state`:\n",
    "1. the value of `state`\n",
    "2. the value of the `objective_function` when evaluated at `state`"
   ]
  },
  {
   "cell_type": "code",
   "execution_count": 6,
   "metadata": {},
   "outputs": [],
   "source": [
    "class state:\n",
    "\n",
    "    def __init__(self, node, value):\n",
    "        self.node = node\n",
    "        self.value = value    "
   ]
  },
  {
   "cell_type": "markdown",
   "metadata": {},
   "source": [
    "Now we need to define our problem.  This should be entirely self-contained, so that we need to feed the `hill_climb` optimization routine below a fairly generic problem description, and it can solve it, so we can easily feed in different problems.\n",
    "\n",
    "**The goal** with this class structure is to have everything that is **problem-specific** sent into the hill-climbing optimization/local search be self-contained within the `problem` object."
   ]
  },
  {
   "cell_type": "code",
   "execution_count": 7,
   "metadata": {},
   "outputs": [],
   "source": [
    "class problem:\n",
    "    \n",
    "    def __init__(self, initial, objective_function, stepsize):\n",
    "        self.initial_state = initial\n",
    "        self.current_state = initial\n",
    "        self.objective_function = objective_function\n",
    "        self.stepsize = stepsize\n",
    "        \n",
    "    def moves(self):\n",
    "        '''return all possible moves to make from the current_state'''\n",
    "        all_moves = []\n",
    "        # could move right...\n",
    "        all_moves.append(self.current_state.node + self.stepsize)\n",
    "        # ... or left!\n",
    "        all_moves.append(self.current_state.node - self.stepsize)\n",
    "        return all_moves"
   ]
  },
  {
   "cell_type": "markdown",
   "metadata": {},
   "source": [
    "Finally, we can turn our Hill-climbing pseudocode into real code, that takes only two arguments and returns the `state` that optimizes the `objective_function`.  Note that the return can be done implicitly by manipulating the current state within our `problem`, or we could code it up as an explicit output."
   ]
  },
  {
   "cell_type": "code",
   "execution_count": 8,
   "metadata": {},
   "outputs": [],
   "source": [
    "def hill_climb(problem, n_iter):\n",
    "    \n",
    "    # iterate until we can't do any better\n",
    "    for k in range(n_iter):\n",
    "        nextMove, nextValue = problem.best_move()\n",
    "        if nextValue <= problem.current_state.value:\n",
    "            return problem.current_state\n",
    "        #print(problem.current_state, nextMove)\n",
    "        problem.current_state.node, problem.current_state.value = nextMove, nextValue\n",
    "    print('reached n_iter')\n",
    "    return False\n",
    "\n",
    "class problem_hillclimb(problem):\n",
    "    \n",
    "    def best_move(self):\n",
    "        '''return the best move possible from the current_state'''\n",
    "        # what moves are possible?\n",
    "        all_moves = self.moves()\n",
    "        # what is objective function for each of them?\n",
    "        obj_func = [self.objective_function(move) for move in all_moves]\n",
    "        best = all_moves[max(zip(obj_func, range(len(obj_func))))[1]]\n",
    "        return best, np.max(obj_func)"
   ]
  },
  {
   "cell_type": "markdown",
   "metadata": {},
   "source": [
    "\n",
    "\n",
    "### (1b)  Ready to solve!\n",
    "\n",
    "Let's start by creating an `initial_state` for our problem."
   ]
  },
  {
   "cell_type": "code",
   "execution_count": 9,
   "metadata": {},
   "outputs": [],
   "source": [
    "initial_state = state(node=1, value=gaussian_objective(1))"
   ]
  },
  {
   "cell_type": "markdown",
   "metadata": {},
   "source": [
    "Now we need an instance of our `problem`."
   ]
  },
  {
   "cell_type": "code",
   "execution_count": 10,
   "metadata": {},
   "outputs": [],
   "source": [
    "gaussian_problem = problem_hillclimb(initial=initial_state, objective_function=gaussian_objective, stepsize=0.1)"
   ]
  },
  {
   "cell_type": "markdown",
   "metadata": {},
   "source": [
    "Finally, we can turn out `hill_climb` algorithm loose on this problem."
   ]
  },
  {
   "cell_type": "code",
   "execution_count": 11,
   "metadata": {},
   "outputs": [
    {
     "name": "stdout",
     "output_type": "stream",
     "text": [
      "4.999999999999999 0.19947114020071635\n"
     ]
    }
   ],
   "source": [
    "out = hill_climb(gaussian_problem, n_iter=50)\n",
    "print(out.node, out.value)"
   ]
  },
  {
   "cell_type": "markdown",
   "metadata": {},
   "source": [
    "## A couple extensions\n",
    "\n",
    "That's good and all, but that particular objective function was just a single univariate Gaussian.  It turns out that the real world is tougher than that.  So let's tackle some tougher problems, shall we?\n",
    "\n",
    "\n",
    "\n",
    "### (1c) Minimization\n",
    "\n",
    "First, it might be the case that we want to ***minimize*** an objective function instead of maximizing it.  Modify your hill-climbing codes to tackle the problem of minimization.  Note:  this ought to be do-able by modifying a single line of code from above..."
   ]
  },
  {
   "cell_type": "code",
   "execution_count": null,
   "metadata": {},
   "outputs": [],
   "source": []
  },
  {
   "cell_type": "markdown",
   "metadata": {},
   "source": [
    "Now **define your own** objective function to minimize!  Easy options include concave-up quadratic functions just slapping a $-$ sign into the Gaussian objective function defined above.  Then turn your descent algorithm loose on the minimization problem."
   ]
  },
  {
   "cell_type": "code",
   "execution_count": null,
   "metadata": {},
   "outputs": [],
   "source": []
  },
  {
   "cell_type": "markdown",
   "metadata": {},
   "source": [
    "\n",
    "### (1d)  Random restarts\n",
    "\n",
    "That single Gaussian actually covers many real-world applications of optimization and local search, but many other applications lead to \"bumpier\" objective functions.  Suppose you are trying to fit a model to noisy data, and suppose each of your data points has normally-distributed uncertainty.  Then the objective function you would like to minimize could take the form of the sum of several Gaussian distributions, like so:\n",
    "\n",
    "$$f(\\texttt{state}) = \\dfrac{1}{\\sqrt{2\\pi}\\sigma} \\left(e^{-\\dfrac{(\\texttt{state}-\\mu_0)^2}{2\\sigma^2}} + \n",
    "e^{-\\dfrac{(\\texttt{state}-\\mu_1)^2}{2\\sigma^2}} + \n",
    "e^{-\\dfrac{(\\texttt{state}-\\mu_2)^2}{2\\sigma^2}} + \n",
    "e^{-\\dfrac{(\\texttt{state}-\\mu_3)^2}{2\\sigma^2}} + \n",
    "e^{-\\dfrac{(\\texttt{state}-\\mu_4)^2}{2\\sigma^2}}\\right)$$\n",
    "\n",
    "Here, $\\mu_i$ denotes the data points you have, $\\sigma$ is assumed to be an uncertainty shared by all of them, and $\\texttt{state}$ is your model's output, which you want to fit through those data points.\n",
    "\n",
    "If we let $\\sigma=1$, $\\mu_0 = 0$, $\\mu_1 = 2.1$, $\\mu_2 = 4$, $\\mu_3 = 4$ and $\\mu_4 = 8$, then we end up with the following objective function, `several_gaussian_objective(state)`:"
   ]
  },
  {
   "cell_type": "code",
   "execution_count": 12,
   "metadata": {},
   "outputs": [],
   "source": [
    "def several_gaussian_objective(state):\n",
    "    locs = [0,2.1,4,4,8] # centers of a bunch of normal distributions\n",
    "    #locs = [0, 2, 4, 6, 8]\n",
    "    objective_value = 0\n",
    "    # objective function is actually just the sum of a bunch of normal pdfs\n",
    "    for loc in locs:\n",
    "        objective_value += stats.norm.pdf(state, loc=loc, scale=1)\n",
    "    return objective_value"
   ]
  },
  {
   "cell_type": "markdown",
   "metadata": {},
   "source": [
    "Plot up this new objective function as a function of `state`.  What do you notice?  Will our \"vanilla\" hill-climbing routine successfully climb the hill and maximize this objective function for *any* initial state?"
   ]
  },
  {
   "cell_type": "code",
   "execution_count": 13,
   "metadata": {},
   "outputs": [
    {
     "data": {
      "image/png": "[encoded data removed]",
      "text/plain": [
       "<Figure size 432x288 with 1 Axes>"
      ]
     },
     "metadata": {
      "needs_background": "light"
     },
     "output_type": "display_data"
    }
   ],
   "source": [
    "x = np.arange(start=-5, stop=15, step=0.1)\n",
    "fx = [several_gaussian_objective(xk) for xk in x]\n",
    "plt.plot(x, fx, lw=2)\n",
    "plt.xlabel('State')\n",
    "plt.ylabel('Objective function')\n",
    "plt.show()"
   ]
  },
  {
   "cell_type": "markdown",
   "metadata": {},
   "source": [
    "Note that we can check about where the global maximum is fairly easily:"
   ]
  },
  {
   "cell_type": "code",
   "execution_count": 14,
   "metadata": {},
   "outputs": [
    {
     "data": {
      "text/plain": [
       "(0.8764853553213469, 3.7999999999999687)"
      ]
     },
     "execution_count": 14,
     "metadata": {},
     "output_type": "execute_result"
    }
   ],
   "source": [
    "max(zip(fx, x))"
   ]
  },
  {
   "cell_type": "markdown",
   "metadata": {},
   "source": [
    "Let's modify our vanilla hill-climbing solution approach from **(1b)** to include 500 random restarts for the initial state.\n",
    "\n",
    "The following code will draw `n_restarts` random samples from the range $[0, 1)$."
   ]
  },
  {
   "cell_type": "code",
   "execution_count": 15,
   "metadata": {},
   "outputs": [],
   "source": [
    "n_restarts = 500\n",
    "sample = np.random.random(size=n_restarts)"
   ]
  },
  {
   "cell_type": "markdown",
   "metadata": {},
   "source": [
    "Modify that to draw instead from the range $[-2, 10)$.  Use those samples to create an **ensemble** of the values of `state` for which the objective function is maximized.  Plot a histogram of them, and make a conclusion about what the \"best guess\" for the maximal `state` is."
   ]
  },
  {
   "cell_type": "code",
   "execution_count": 16,
   "metadata": {},
   "outputs": [
    {
     "name": "stdout",
     "output_type": "stream",
     "text": [
      "[ 0.73144512  5.67114374  8.03535495  4.89033593  0.01552372  2.48644879\n",
      "  7.67693374  0.84692429  8.85172911 -0.86874862  4.14522388  3.68205381\n",
      "  2.33592316  8.73924671  8.00679768  7.17344094 -1.10019168  6.21398009\n",
      "  9.91395129  0.87510923  8.78687631  7.30983456  1.57952292  3.60135699\n",
      "  1.19713647  8.21652798  6.50707573 -1.05007883  7.23454489  0.16003178\n",
      "  5.59087645  7.11212786  2.27243406  0.38794006 -0.81328669  1.11188825\n",
      "  8.96338603  8.9854112   5.06358612  6.83308042  8.10501022  9.29251113\n",
      "  9.53400209 -1.55618891  8.61838058  0.63313116  0.92043422  2.52314288\n",
      "  9.18506284  8.37644556  1.58362503  9.63135069  5.53058362  9.96125411\n",
      "  5.67744895 -1.68744921  2.33751483  7.12180644  6.46603747  6.94592043\n",
      " -1.02731626  3.28742224  8.27807062  6.36336234  6.85377529  1.46376863\n",
      " -1.65064671  0.15798112  5.24658073  5.93332134  9.35182303  3.45359887\n",
      "  0.4676884   9.48374697  9.77240226  0.99328756  4.34548503  8.24106427\n",
      "  4.25604165  7.11472357  7.73440347  3.38188232  3.52749456  6.25479283\n",
      " -1.56861279  2.40450074  4.58431917  6.75267318  8.76495343  6.21556587\n",
      "  9.56138703  1.58809601 -1.88965414  2.08537781  3.75637453  1.40014884\n",
      " -0.24135124 -1.31518555  3.03675003  9.21112596]\n",
      "[3.831445121145978, 3.771143742417497, 8.035354950324674, 3.7903359346819046, 3.81552372226002, 3.786448791335794, 7.976933740883878, 3.746924290275676, 7.9517291080105075, 3.8312513798782537, 3.7452238756046934, 3.7820538089005544, 3.8359231647567458, 8.03924671117666, 8.006797682601851, 7.973440936952903, 3.799808324580492, 3.813980087136298, 8.013951291573202, 3.7751092284327306, 7.98687630635399, 8.009834558675786, 3.779522919966061, 3.8013569890590935, 3.797136472611952, 8.016527981123279, 8.007075734389348, 3.7499211708815925, 8.034544887600758, 3.760031777859568, 3.7908764480345494, 8.012127864273857, 3.7724340615929113, 3.7879400589922216, 3.7867133117261815, 3.8118882513958066, 7.963386025960032, 7.985411202059703, 3.763586116973198, 8.033080420832135, 8.005010222888634, 7.992511127017432, 8.034002094497572, 3.7438110878173285, 8.018380576022963, 3.833131155816389, 3.820434224775902, 3.823142883813509, 7.985062841024716, 7.976445560246537, 3.7836250314243136, 8.031350687957152, 3.8305836173668384, 7.961254109584516, 3.7774489511616065, 3.8125507923488944, 3.8375148344202548, 8.021806442133972, 7.966037467188954, 8.045920425177345, 3.772683738918365, 3.7874222365456416, 7.978070620129545, 7.96336234341717, 7.953775292376969, 3.763768633468099, 3.7493532870274633, 3.7579811230675886, 3.7465807340758466, 3.833321338994563, 7.951823029990088, 3.7535988675648944, 3.7676883952639852, 7.9837469717602225, 7.972402256332305, 3.79328755707945, 3.7454850252410403, 8.04106426676474, 3.756041652097004, 8.014723571445604, 8.034403469657935, 3.781882316113254, 3.8274945582483055, 7.954792832120704, 3.831387214736844, 3.804500738154416, 3.784319168897872, 7.952673178153331, 7.964953427624398, 3.8155658657289857, 7.961387034850798, 3.788096006884738, 3.8103458582583314, 3.785377805227298, 3.7563745309483227, 3.80014883909052, 3.758648759446698, 3.7848144462352202, 3.8367500330029713, 8.011125961757084]\n"
     ]
    },
    {
     "data": {
      "image/png": "[encoded data removed]",
      "text/plain": [
       "<Figure size 432x288 with 1 Axes>"
      ]
     },
     "metadata": {
      "needs_background": "light"
     },
     "output_type": "display_data"
    }
   ],
   "source": [
    "n_restarts = 100\n",
    "max_found = []\n",
    "range_init = [-2, 10]\n",
    "initial_values = np.random.random(size=n_restarts)*np.diff(range_init)+range_init[0]\n",
    "#initial_values = np.random.uniform(-2,10,size=n_restarts)\n",
    "print(initial_values)\n",
    "\n",
    "for n in range(n_restarts):\n",
    "    initial_state = state(node=initial_values[n], value=several_gaussian_objective(initial_values[n]))\n",
    "    gaussian_problem = problem_hillclimb(initial=initial_state, objective_function=several_gaussian_objective, stepsize=0.1)\n",
    "    out = hill_climb(gaussian_problem, n_iter=500)\n",
    "    max_found.append(out.node)\n",
    "    \n",
    "print(max_found)\n",
    "plt.hist(max_found)\n",
    "plt.show()"
   ]
  },
  {
   "cell_type": "code",
   "execution_count": null,
   "metadata": {},
   "outputs": [],
   "source": []
  },
  {
   "cell_type": "code",
   "execution_count": null,
   "metadata": {},
   "outputs": [],
   "source": []
  },
  {
   "cell_type": "code",
   "execution_count": null,
   "metadata": {},
   "outputs": [],
   "source": []
  }
 ],
 "metadata": {
  "kernelspec": {
   "display_name": "Python 3.8.10 64-bit",
   "language": "python",
   "name": "python3"
  },
  "language_info": {
   "codemirror_mode": {
    "name": "ipython",
    "version": 3
   },
   "file_extension": ".py",
   "mimetype": "text/x-python",
   "name": "python",
   "nbconvert_exporter": "python",
   "pygments_lexer": "ipython3",
   "version": "3.8.10"
  },
  "vscode": {
   "interpreter": {
    "hash": "916dbcbb3f70747c44a77c7bcd40155683ae19c65e1c03b4aa3499c5328201f1"
   }
  }
 },
 "nbformat": 4,
 "nbformat_minor": 4
}
