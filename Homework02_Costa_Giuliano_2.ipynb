{
 "cells": [
  {
   "cell_type": "markdown",
   "metadata": {},
   "source": [
    "---\n",
    "\n",
    "# CSCI 3202, Fall 2022\n",
    "# Homework 2: MDP & Reinforcement Learning\n",
    "# Due: Friday September 9, 2022 at 6:00 PM\n",
    "\n",
    "<br> \n",
    "\n",
    "### Your name: Giuliano Costa\n",
    "\n",
    "<br> "
   ]
  },
  {
   "cell_type": "code",
   "execution_count": 29,
   "metadata": {},
   "outputs": [],
   "source": [
    "import pandas as pd\n",
    "import numpy as np\n",
    "import scipy.stats as stats\n",
    "import matplotlib.pyplot as plt\n",
    "from collections import defaultdict\n",
    "\n",
    "# added packages\n",
    "import heapq\n",
    "from matplotlib import colors"
   ]
  },
  {
   "cell_type": "markdown",
   "metadata": {},
   "source": [
    "\n",
    "\n",
    "---\n",
    "\n",
    "Consider a **cube** state space defined by $0 \\le x, y, z \\le L$. Suppose you are piloting/programming a drone to learn how to land on a platform at the center of the $z=0$ surface (the bottom). Some assumptions:\n",
    "* In this discrete world, if the drone is at $(x,y,z)$ it means that the box is centered at $(x,y,z)$. There are boxes (states) centered at $(x,y,z)$ for all $0 \\le x,y,z \\le L$. Each state is a 1 unit cube. \n",
    "* In this world, $L$ is always an even value.\n",
    "* All of the states with $z=0$ are terminal states.\n",
    "* The state at the center of the bottom of the cubic state space is the landing pad. For example, when $L=4$, the landing pad is at $(x,y,z) = (2,2,0)$.\n",
    "* All terminal states ***except*** the landing pad have a reward of -1. The landing pad has a reward of +1.\n",
    "* All non-terminal states have a living reward of -0.01.\n",
    "* The drone takes up exactly 1 cubic unit, and begins in a random non-terminal state.\n",
    "* The available actions in non-terminal states include moving exactly 1 unit Up (+z), Down (-z), North (+y), South (-y), East (+x) or West (-x). In a terminal state, the training episode should end."
   ]
  },
  {
   "cell_type": "markdown",
   "metadata": {},
   "source": [
    "#### Part A\n",
    "How many states would be in the discrete state space if $L=2$? Explain your reasoning."
   ]
  },
  {
   "cell_type": "markdown",
   "metadata": {},
   "source": [
    "*Your answer here:*\n",
    "State Space\n",
    "$$ L = 2 $$\n",
    "$$ Z states: 0, 1, 2 $$\n",
    "$$ Z_{num} = 3 $$\n",
    "$$ Z_{num} = 3^3 $$\n",
    "\n",
    "$\\qquad$  States $\\qquad = 27$\n",
    "\n",
    "\n"
   ]
  },
  {
   "cell_type": "markdown",
   "metadata": {},
   "source": [
    "#### Part B\n",
    "Write a class `MDPLanding` to represent the Markov decision process for this drone. Include methods for:\n",
    "1. `actions(state)`, which should return a list of all actions available from the given state\n",
    "2. `reward(state)`, which should return the reward for the given state\n",
    "3. `result(state, action)`, which should return the resulting state of doing the given action in the given state\n",
    "\n",
    "and attributes for:\n",
    "1. `states`, a list of all the states in the state space, where each state is represented as an $(x,y,z)$ tuple\n",
    "2. `terminal_states`, a dictionary where keys are the terminal state tuples and the values are the rewards associated with those terminal states\n",
    "3. `default_reward`, a scalar for the reward associated with non-terminal states\n",
    "4. `all_actions`, a list of all possible actions (Up, Down, North, South, East, West)\n",
    "5. `discount`, the discount factor (use $\\gamma = 0.999$ for this entire problem)\n",
    "\n",
    "How you feed arguments/information into the class constructor is up to you.\n",
    "\n",
    "Note that actions are *deterministic* here.  The drone does not need to include transition probabilities for outcomes of particular actions. What the drone does need to learn, however, is where the landing pad is, and how to get there from any initial state.\n",
    "\n",
    "Before moving on to Part C, we recommend that you test that your MDPLanding code is set up correctly. Write unit tests that display the actions for a given state, rewards, results, etc. This will help you identify errors in your implementation and save you a lot of debugging time later."
   ]
  },
  {
   "cell_type": "code",
   "execution_count": 171,
   "metadata": {},
   "outputs": [],
   "source": [
    "# Solution:\n",
    "import itertools as it\n",
    "\n",
    "class MDPLanding():\n",
    "    def __init__(self, L):\n",
    "        self.states = list(it.product(range(L+1), repeat=3))\n",
    "        self.terminal_states = {}\n",
    "        \n",
    "        for s in self.states:\n",
    "            if s[2] == 0: #if z coordinate of tuple is 0, bottom of cube\n",
    "                if(s[0] == L/2 ) and (s[2] == L/2): \n",
    "                    self.terminal_states[s] = 1\n",
    "                else:\n",
    "                    self.terminal_states[s] = -1\n",
    "        self.terminal_states[(int(L/2), int(L/2) , 0)] = 1                \n",
    "        self.term_rewards = 1\n",
    "        self.default_reward = -0.1\n",
    "        self.all_actions = [(0,1,0), (0,-1,0), (-1,0,0), (1,0,0), (0,0,-1), (0,0,1)]\n",
    "        self.discount = 0.999\n",
    "        self.L = L\n",
    "        \n",
    "        \n",
    "    #Return a set of actions, based on current (xyz) coord    \n",
    "    def actions(self, state):\n",
    "        action = []\n",
    "        \n",
    "        if(state[2] == 0): #if at the bottom\n",
    "            return action\n",
    "        else:\n",
    "            for move in self.all_actions:\n",
    "                n = (state[0] + move[0], state[1] + move[1], state[2] + move[2])\n",
    "                \n",
    "                if n[0] < 0 or n[0] > self.L: #If change in x coord is less than 0, or greater than bounds, \n",
    "                    #print(\"x Not out of bounds \\n\")\n",
    "                    continue\n",
    "                elif n[1] < 0 or n[1] > self.L: #y\n",
    "                    #print(\"y Not out of bounds \\n\")\n",
    "                    continue\n",
    "                elif n[2] < 0 or n[2] > self.L: #z\n",
    "                    #print(\"z Not out of bounds \\n\")\n",
    "                    continue\n",
    "                else:\n",
    "                    action.append(move)\n",
    "            return action       \n",
    "        # if(state in self.terminal_states): #If term state, return false\n",
    "        #     return 0          \n",
    "        # else: #Otherwise return all_actions\n",
    "        #     return self.all_actions        \n",
    "    \n",
    "    def reward(self, state):\n",
    "        if (state[2] == 0):\n",
    "            return self.terminal_states\n",
    "        else:\n",
    "            return self.default_reward\n",
    "        \n",
    "    def result(self, state, action):\n",
    "        return (state[0] + action[0], state[1] + action[1], state[2] + action[2])\n",
    "                                                           \n",
    "        \n"
   ]
  },
  {
   "cell_type": "code",
   "execution_count": 177,
   "metadata": {},
   "outputs": [
    {
     "data": {
      "text/plain": [
       "[(0, 1, 0), (1, 0, 0), (0, 0, -1)]"
      ]
     },
     "execution_count": 177,
     "metadata": {},
     "output_type": "execute_result"
    }
   ],
   "source": [
    "test = MDPLanding(L=2)\n",
    "len(test.states)\n",
    "#test.actions((0,1,2))\n",
    "#test.actions((0,-2,0))\n",
    "#test.terminal_states\n",
    "test.actions((0,0,2))\n"
   ]
  },
  {
   "cell_type": "markdown",
   "metadata": {
    "collapsed": true
   },
   "source": [
    "#### Part C\n",
    "Write a function to implement **policy iteration** for this drone landing MDP. Create an MDP environment to represent the $L=4$ case.\n",
    "\n",
    "Use your function to find an optimal policy for your new MDP environment. Check (by printing to screen) that the policy for the following states are what you expect, and **comment on the results**:\n",
    "1. $(2,2,1)$\n",
    "1. $(0,2,1)$\n",
    "1. $(2,0,1)$\n",
    "\n",
    "The policy for each of these states is the action that the agent should take in that state. "
   ]
  },
  {
   "cell_type": "code",
   "execution_count": 199,
   "metadata": {},
   "outputs": [],
   "source": [
    "mdpenv = MDPLanding(L=4)\n",
    "\n",
    "#Variables:\n",
    "# pi: A policy\n",
    "# a = \n",
    "# U = Utility\n",
    "#\n",
    "#\n",
    "#def expectedUtility() Expected utility of doing an action in a state (s), using mdp) \n",
    "\n",
    "def expected_utility(a, s, U, mdp):\n",
    "     #return sum(p* U[s1] for (p, s1) in mdp.T(s,a))\n",
    "    return sum([p * U[s1] for (p, s1) in mdp.T(s, a)])\n",
    " \n",
    "#def policyEvaluation\n",
    "\n",
    "def policy_evaluation(pi, U, mdp):\n",
    "    pi = 1\n",
    "    R, T, gamma = mdp.default_reward, mdp.result, mdp.discount\n",
    "    k =  100\n",
    "    for i in range(k): #Number of iteratons k\n",
    "        for s in mdp.states:\n",
    "            U[s] = R(s) + gamma * U[T(s, pi[s])]\n",
    "    return U\n",
    "\n",
    "#def expectedUtility() Expected utility of doing an action in a state (s), using mdp) \n",
    "\n",
    "def policy_iteration(mdp):\n",
    "    \n",
    "    U = {s: 0 for s in mdp.states} #A vector of utilities for states in mdp.state\n",
    "\n",
    "    #Calculate Utility of each action if it were to be executed\n",
    "    \n",
    "    #Pi dictionary of {key: value}\n",
    "    #Where key is a state (Up/Down etc...) and  value is an action\n",
    "    \n",
    "    pi = {}\n",
    "    #pi = { s: np.random.choice( mdp.action(i)) for i in len(mdp.state)}\n",
    "    \n",
    "    #Need to select states that aren't terminal\n",
    "    states = []\n",
    "    for s in mdp.states:\n",
    "        if s[2] != 0:\n",
    "            states.append(s)\n",
    "            \n",
    "    print(len(mdp.states))\n",
    "    print(len(states))\n",
    "    \n",
    "    for s in states:\n",
    "        #print(\"Number of actions\", len(mdp.actions(s)), s, \"\\n\")\n",
    "        pi[s] = mdp.actions(s)[np.random.choice(len(mdp.actions(s) ))]\n",
    "        #print(\"State s, and action\", pi[s], \"\\n\")\n",
    "    print(len(pi))\n",
    "    action = {}\n",
    "    #_action[self.all_actions] = 0\n",
    "    \n",
    "    while True:\n",
    "        #For all actions, select max value action\n",
    "        U = policy_evaluation(pi, U, mdp)\n",
    "        unchanged = True\n",
    "        \n",
    "        a = max(mdp.action(s))\n",
    "        \n",
    "        for s in mdp.state: #for each state\n",
    "            if mdp.result(s, pi[s]) == s:\n",
    "                action[pi[s]] = -100000\n",
    "            else: \n",
    "                match pi[s]:\n",
    "                    case (0,0,1):\n",
    "                        action['Up'] = expected_utility(pi[s], s, U, mdp)\n",
    "                    case (0,0,-1):\n",
    "                        action(0,0,-1) = expected_utility(pi[s], s, U, mdp)\n",
    "                    case 'North':\n",
    "                        action['North'] = expected_utility(pi[s], s, U, mdp)\n",
    "                    case 'South':\n",
    "                        action['South'] = expected_utility(pi[s], s, U, mdp)\n",
    "                    case 'East':\n",
    "                        action['East'] = expected_utility(pi[s], s, U, mdp)\n",
    "                    case 'West':\n",
    "                        action['West'] = expected_utility(pi[s], s, U, mdp)\n",
    "                \n",
    "            if a != pi[s]:\n",
    "                pi[s] = a\n",
    "                unchanged = False\n",
    "            if unchanged:\n",
    "                return pi                                                                                     \n",
    "\n"
   ]
  },
  {
   "cell_type": "code",
   "execution_count": 200,
   "metadata": {},
   "outputs": [
    {
     "name": "stdout",
     "output_type": "stream",
     "text": [
      "125\n",
      "100\n",
      "100\n"
     ]
    },
    {
     "ename": "TypeError",
     "evalue": "'float' object is not callable",
     "output_type": "error",
     "traceback": [
      "\u001b[0;31m---------------------------------------------------------------------------\u001b[0m",
      "\u001b[0;31mTypeError\u001b[0m                                 Traceback (most recent call last)",
      "\u001b[1;32m/home/gugu/CSCI_AI/Homework02_Costa_Giuliano_2.ipynb Cell 11\u001b[0m in \u001b[0;36m<cell line: 2>\u001b[0;34m()\u001b[0m\n\u001b[1;32m      <a href='vscode-notebook-cell:/home/gugu/CSCI_AI/Homework02_Costa_Giuliano_2.ipynb#X30sZmlsZQ%3D%3D?line=0'>1</a>\u001b[0m \u001b[39m#mdpenv.actions((0,1,0))\u001b[39;00m\n\u001b[0;32m----> <a href='vscode-notebook-cell:/home/gugu/CSCI_AI/Homework02_Costa_Giuliano_2.ipynb#X30sZmlsZQ%3D%3D?line=1'>2</a>\u001b[0m policy_iteration(mdpenv)\n",
      "\u001b[1;32m/home/gugu/CSCI_AI/Homework02_Costa_Giuliano_2.ipynb Cell 11\u001b[0m in \u001b[0;36mpolicy_iteration\u001b[0;34m(mdp)\u001b[0m\n\u001b[1;32m     <a href='vscode-notebook-cell:/home/gugu/CSCI_AI/Homework02_Costa_Giuliano_2.ipynb#X30sZmlsZQ%3D%3D?line=60'>61</a>\u001b[0m \u001b[39m#_action[self.all_actions] = 0\u001b[39;00m\n\u001b[1;32m     <a href='vscode-notebook-cell:/home/gugu/CSCI_AI/Homework02_Costa_Giuliano_2.ipynb#X30sZmlsZQ%3D%3D?line=62'>63</a>\u001b[0m \u001b[39mwhile\u001b[39;00m \u001b[39mTrue\u001b[39;00m:\n\u001b[1;32m     <a href='vscode-notebook-cell:/home/gugu/CSCI_AI/Homework02_Costa_Giuliano_2.ipynb#X30sZmlsZQ%3D%3D?line=63'>64</a>\u001b[0m     \u001b[39m#For all actions, select max value action\u001b[39;00m\n\u001b[0;32m---> <a href='vscode-notebook-cell:/home/gugu/CSCI_AI/Homework02_Costa_Giuliano_2.ipynb#X30sZmlsZQ%3D%3D?line=64'>65</a>\u001b[0m     U \u001b[39m=\u001b[39m policy_evaluation(pi, U, mdp)\n\u001b[1;32m     <a href='vscode-notebook-cell:/home/gugu/CSCI_AI/Homework02_Costa_Giuliano_2.ipynb#X30sZmlsZQ%3D%3D?line=65'>66</a>\u001b[0m     unchanged \u001b[39m=\u001b[39m \u001b[39mTrue\u001b[39;00m\n\u001b[1;32m     <a href='vscode-notebook-cell:/home/gugu/CSCI_AI/Homework02_Costa_Giuliano_2.ipynb#X30sZmlsZQ%3D%3D?line=67'>68</a>\u001b[0m     a \u001b[39m=\u001b[39m \u001b[39mmax\u001b[39m(mdp\u001b[39m.\u001b[39maction(s))\n",
      "\u001b[1;32m/home/gugu/CSCI_AI/Homework02_Costa_Giuliano_2.ipynb Cell 11\u001b[0m in \u001b[0;36mpolicy_evaluation\u001b[0;34m(pi, U, mdp)\u001b[0m\n\u001b[1;32m     <a href='vscode-notebook-cell:/home/gugu/CSCI_AI/Homework02_Costa_Giuliano_2.ipynb#X30sZmlsZQ%3D%3D?line=20'>21</a>\u001b[0m \u001b[39mfor\u001b[39;00m i \u001b[39min\u001b[39;00m \u001b[39mrange\u001b[39m(k): \u001b[39m#Number of iteratons k\u001b[39;00m\n\u001b[1;32m     <a href='vscode-notebook-cell:/home/gugu/CSCI_AI/Homework02_Costa_Giuliano_2.ipynb#X30sZmlsZQ%3D%3D?line=21'>22</a>\u001b[0m     \u001b[39mfor\u001b[39;00m s \u001b[39min\u001b[39;00m mdp\u001b[39m.\u001b[39mstates:\n\u001b[0;32m---> <a href='vscode-notebook-cell:/home/gugu/CSCI_AI/Homework02_Costa_Giuliano_2.ipynb#X30sZmlsZQ%3D%3D?line=22'>23</a>\u001b[0m         U[s] \u001b[39m=\u001b[39m R(s) \u001b[39m+\u001b[39m gamma \u001b[39m*\u001b[39m U[T(s, pi[s])]\n\u001b[1;32m     <a href='vscode-notebook-cell:/home/gugu/CSCI_AI/Homework02_Costa_Giuliano_2.ipynb#X30sZmlsZQ%3D%3D?line=23'>24</a>\u001b[0m \u001b[39mreturn\u001b[39;00m U\n",
      "\u001b[0;31mTypeError\u001b[0m: 'float' object is not callable"
     ]
    }
   ],
   "source": [
    "#mdpenv.actions((0,1,0))\n",
    "policy_iteration(mdpenv)\n",
    "#np.random.choice(len(mdpenv.actions((0,1,0))))"
   ]
  },
  {
   "cell_type": "markdown",
   "metadata": {},
   "source": [
    "#### Part D\n",
    "Provide an example of a non-deterministic transition that could be included in your code in Part C. Describe the function. How would you modify your code to handle a non-deterministic transition function?"
   ]
  },
  {
   "cell_type": "markdown",
   "metadata": {},
   "source": [
    "*Your answer here*"
   ]
  },
  {
   "cell_type": "markdown",
   "metadata": {},
   "source": [
    "#### Part E\n",
    "Describe the main differences between **policy iteration** and **value iteration**? How would your code change in Part C to convert it to **value iteration**?"
   ]
  },
  {
   "cell_type": "markdown",
   "metadata": {},
   "source": [
    "*Your answer here:*\n",
    "\n",
    "Policy iteration changes the underlying policy that determines the actions of the agent. Value iteration seeks to increase rewards\n",
    "\n",
    " \n"
   ]
  },
  {
   "cell_type": "markdown",
   "metadata": {},
   "source": [
    "#### Part F\n",
    "\n",
    "Code up a **Q-learning** agent/algorithm to learn how to land the drone. You can do this however you like, as long as you use the MDP class structure defined above.  \n",
    "\n",
    "Your code should include some kind of a wrapper to run many trials to train the agent and learn the Q values.  You also do not need to have a separate function for the actual \"agent\"; your code can just be a \"for\" loop within which you are refining your estimate of the Q values.\n",
    "\n",
    "From each training trial, save the cumulative discounted reward (utility) over the course of that episode. That is, add up all of $\\gamma^t R(s_t)$ where the drone is in state $s_t$ during time step $t$, for the entire sequence. We refer to this as \"cumulative reward\" because we usually refer to \"utility\" as the utility *under an optimal policy*.\n",
    "\n",
    "Some guidelines:\n",
    "* The drone should initialize in a random non-terminal state for each new training episode.\n",
    "* The training episodes should be limited to 50 time steps, even if the drone has not yet landed. If the drone lands (in a terminal state), the training episode is over.\n",
    "* You may use whatever learning rate $\\alpha$ you decide is appropriate, and gives good results.\n",
    "* There are many forms of Q-learning. You can use whatever you would like, subject to the reliability targets below.\n",
    "* Your code should return:\n",
    "  * The learned Q values associated with each state-action pair.\n",
    "  * The cumulative reward for each training trial. \n",
    "  * Anything else that might be useful in the ensuing analysis."
   ]
  },
  {
   "cell_type": "code",
   "execution_count": 3,
   "metadata": {},
   "outputs": [],
   "source": [
    "# Solution:\n",
    "\n"
   ]
  },
  {
   "cell_type": "markdown",
   "metadata": {},
   "source": [
    "#### Part G\n",
    "\n",
    "Initialize the $L=10$ environment (so that the landing pad is at $(5,5,0)$). Run some number of training trials to train the drone.\n",
    "\n",
    "**How do I know if my drone is learned enough?**  If you take the mean cumulative reward across the last 5000 training trials, it should be around 0.80. This means at least about 10,000 (but probably more) training episodes will be necessary. It will take a few seconds on your computer, so start small to test your code.\n",
    "\n",
    "**Then:** Compute block means of cumulative reward from all of your training trials. Use blocks of 500 training trials. This means you need to create some kind of array-like structure such that its first element is the mean of the first 500 trials' cumulative rewards; its second element is the mean of the 501-1000th trials' cumulative rewards; and so on. Make a plot of the block mean rewards as the training progresses. It should increase from about -0.5 initially to somewhere around +0.8.\n",
    "\n",
    "**And:** Print to the screen the mean of the last 5000 trials' cumulative rewards, to verify that it is indeed about 0.80."
   ]
  },
  {
   "cell_type": "code",
   "execution_count": 1,
   "metadata": {},
   "outputs": [],
   "source": [
    "# Solution:\n"
   ]
  },
  {
   "cell_type": "markdown",
   "metadata": {},
   "source": [
    "#### Part H\n",
    "\n",
    "**Question 1:** Why does the cumulative reward start off around -0.5 at the beginning of the training?\n",
    "\n",
    "**Question 2:** Why will it be difficult for us to train the drone to reliably obtain rewards much greater than about 0.8?"
   ]
  },
  {
   "cell_type": "markdown",
   "metadata": {},
   "source": [
    "**Your answer here:**\n",
    "\n"
   ]
  },
  {
   "cell_type": "code",
   "execution_count": null,
   "metadata": {},
   "outputs": [],
   "source": []
  }
 ],
 "metadata": {
  "kernelspec": {
   "display_name": "Python 3.10.5",
   "language": "python",
   "name": "python3"
  },
  "language_info": {
   "codemirror_mode": {
    "name": "ipython",
    "version": 3
   },
   "file_extension": ".py",
   "mimetype": "text/x-python",
   "name": "python",
   "nbconvert_exporter": "python",
   "pygments_lexer": "ipython3",
   "version": "3.10.5"
  },
  "vscode": {
   "interpreter": {
    "hash": "2d8eb5f0b2d1a671b125662acba05eb56e47a909e2cbb43cb4ed44d16297229b"
   }
  }
 },
 "nbformat": 4,
 "nbformat_minor": 2
}
