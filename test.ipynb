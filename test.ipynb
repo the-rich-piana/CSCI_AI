{
 "cells": [
  {
   "cell_type": "code",
   "execution_count": 1,
   "metadata": {},
   "outputs": [],
   "source": [
    "import numpy as np"
   ]
  },
  {
   "cell_type": "code",
   "execution_count": 2,
   "metadata": {},
   "outputs": [
    {
     "name": "stdout",
     "output_type": "stream",
     "text": [
      "C [0.6 0.2 0.2] \n",
      " [[0.7 0.  0.3]\n",
      " [0.1 0.9 0. ]\n",
      " [0.  0.2 0.8]]\n",
      "[[1.3 0.  0.  0.  0.  0. ]\n",
      " [0.3 0.  0.  0.  0.  0. ]\n",
      " [0.2 0.  0.  0.  0.  0. ]] Emisison at Obersation o: [0.7 0.1 0. ]\n",
      "1 0\n",
      "1 1\n",
      "1 2\n",
      "2 0\n",
      "2 1\n",
      "2 2\n",
      "3 0\n",
      "3 1\n",
      "3 2\n",
      "4 0\n",
      "4 1\n",
      "4 2\n",
      "5 0\n",
      "5 1\n",
      "5 2\n",
      "Observation sequence:   O =  [0 2 0 2 2 1]\n",
      "Optimal state sequence: S =  [0 0 0 2 2 1]\n",
      "D_log =\n",
      "[[   1.30    2.40    3.90    5.00    6.10    6.90]\n",
      " [   0.30    1.40    2.60    4.00    5.10    7.40]\n",
      " [   0.20    2.20    2.80    4.80    6.20    7.00]]\n",
      "exp(D_log) =\n",
      "[[ 3.6693  11.0232  49.4024  148.4132  445.8578  992.2747]\n",
      " [ 1.3499  4.0552  13.4637  54.5982  164.0219  1635.9844]\n",
      " [ 1.2214  9.0250  16.4446  121.5104  492.7490  1096.6332]]\n",
      "E =\n",
      "[[0 0 0 0 0]\n",
      " [0 2 0 2 2]\n",
      " [0 2 0 2 2]]\n"
     ]
    }
   ],
   "source": [
    "A = np.array([[0.8, 0.1, 0.1], \n",
    "              [0.2, 0.7, 0.1], \n",
    "              [0.1, 0.3, 0.6]])\n",
    "\n",
    "C = np.array([0.6, 0.2, 0.2])\n",
    "\n",
    "B = np.array([[0.7, 0.0, 0.3], \n",
    "              [0.1, 0.9, 0.0], \n",
    "              [0.0, 0.2, 0.8]])\n",
    "O = np.array([0, 2, 0, 2, 2, 1]).astype(np.int32)\n",
    "\n",
    "\n",
    "\n",
    "def viterbi_log(A, C, B, O):\n",
    "    \"\"\"Viterbi algorithm (log variant) for solving the uncovering problem\n",
    "\n",
    "    Notebook: C5/C5S3_Viterbi.ipynb\n",
    "\n",
    "    Args:\n",
    "        A (np.ndarray): State transition probability matrix of dimension I x I\n",
    "        C (np.ndarray): Initial state distribution  of dimension I\n",
    "        B (np.ndarray): Output probability matrix of dimension I x K\n",
    "        O (np.ndarray): Observation sequence of length N\n",
    "\n",
    "    Returns:\n",
    "        S_opt (np.ndarray): Optimal state sequence of length N\n",
    "        D_log (np.ndarray): Accumulated log probability matrix\n",
    "        E (np.ndarray): Backtracking matrix\n",
    "    \"\"\"\n",
    "    I = A.shape[0]    # Number of states\n",
    "    N = len(O)  # Length of observation sequence\n",
    "    tiny = np.finfo(0.).tiny\n",
    "    A_log = A\n",
    "    C_log = C\n",
    "    B_log = B\n",
    "    #print(B)\n",
    "    print(\"C\", C_log,\"\\n\",  B_log)\n",
    "\n",
    "    # Initialize D and E matrices\n",
    "    D_log = np.zeros((I, N))\n",
    "    E = np.zeros((I, N-1)).astype(np.int32)\n",
    "    D_log[:, 0] = C_log + B_log[:, O[0]]\n",
    "    print(D_log, \"Emisison at Obersation o:\", B_log[:, O[0]] )\n",
    "\n",
    "    # Compute D and E in a nested loop\n",
    "    for n in range(1, N):\n",
    "        for i in range(I):\n",
    "            print(n, i)\n",
    "            temp_sum = A_log[:, i] + D_log[:, n-1]\n",
    "            D_log[i, n] = np.max(temp_sum) + B_log[i, O[n]]\n",
    "            E[i, n-1] = np.argmax(temp_sum)\n",
    "\n",
    "    # Backtracking\n",
    "    S_opt = np.zeros(N).astype(np.int32)\n",
    "    S_opt[-1] = np.argmax(D_log[:, -1])\n",
    "    for n in range(N-2, -1, -1):\n",
    "        S_opt[n] = E[int(S_opt[n+1]), n]\n",
    "\n",
    "    return S_opt, D_log, E\n",
    "\n",
    "# Apply Viterbi algorithm (log variant)\n",
    "S_opt, D_log, E = viterbi_log(A, C, B, O)\n",
    "\n",
    "print('Observation sequence:   O = ', O)\n",
    "print('Optimal state sequence: S = ', S_opt)\n",
    "np.set_printoptions(formatter={'float': \"{: 7.2f}\".format})\n",
    "print('D_log =', D_log, sep='\\n')\n",
    "np.set_printoptions(formatter={'float': \"{: 7.4f}\".format})\n",
    "print('exp(D_log) =', np.exp(D_log), sep='\\n')\n",
    "np.set_printoptions(formatter={'float': \"{: 7.0f}\".format})\n",
    "print('E =', E, sep='\\n')"
   ]
  },
  {
   "cell_type": "code",
   "execution_count": null,
   "metadata": {},
   "outputs": [],
   "source": []
  }
 ],
 "metadata": {
  "kernelspec": {
   "display_name": "Python 3.10.5",
   "language": "python",
   "name": "python3"
  },
  "language_info": {
   "codemirror_mode": {
    "name": "ipython",
    "version": 3
   },
   "file_extension": ".py",
   "mimetype": "text/x-python",
   "name": "python",
   "nbconvert_exporter": "python",
   "pygments_lexer": "ipython3",
   "version": "3.10.5"
  },
  "orig_nbformat": 4,
  "vscode": {
   "interpreter": {
    "hash": "2d8eb5f0b2d1a671b125662acba05eb56e47a909e2cbb43cb4ed44d16297229b"
   }
  }
 },
 "nbformat": 4,
 "nbformat_minor": 2
}
